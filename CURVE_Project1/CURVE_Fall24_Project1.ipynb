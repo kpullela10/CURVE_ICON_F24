{
  "nbformat": 4,
  "nbformat_minor": 0,
  "metadata": {
    "colab": {
      "provenance": []
    },
    "kernelspec": {
      "name": "python3",
      "display_name": "Python 3"
    },
    "language_info": {
      "name": "python"
    }
  },
  "cells": [
    {
      "cell_type": "code",
      "execution_count": 40,
      "metadata": {
        "colab": {
          "base_uri": "https://localhost:8080/"
        },
        "id": "YKpCfwF8pZSO",
        "outputId": "b2da7d22-b596-4f34-9ab3-00d735029c4a"
      },
      "outputs": [
        {
          "output_type": "stream",
          "name": "stdout",
          "text": [
            "Requirement already satisfied: pandas in /usr/local/lib/python3.10/dist-packages (2.1.4)\n",
            "Requirement already satisfied: scikit-learn in /usr/local/lib/python3.10/dist-packages (1.5.2)\n",
            "Requirement already satisfied: matplotlib in /usr/local/lib/python3.10/dist-packages (3.7.1)\n",
            "Requirement already satisfied: seaborn in /usr/local/lib/python3.10/dist-packages (0.13.1)\n",
            "Requirement already satisfied: numpy<2,>=1.22.4 in /usr/local/lib/python3.10/dist-packages (from pandas) (1.26.4)\n",
            "Requirement already satisfied: python-dateutil>=2.8.2 in /usr/local/lib/python3.10/dist-packages (from pandas) (2.8.2)\n",
            "Requirement already satisfied: pytz>=2020.1 in /usr/local/lib/python3.10/dist-packages (from pandas) (2024.2)\n",
            "Requirement already satisfied: tzdata>=2022.1 in /usr/local/lib/python3.10/dist-packages (from pandas) (2024.1)\n",
            "Requirement already satisfied: scipy>=1.6.0 in /usr/local/lib/python3.10/dist-packages (from scikit-learn) (1.13.1)\n",
            "Requirement already satisfied: joblib>=1.2.0 in /usr/local/lib/python3.10/dist-packages (from scikit-learn) (1.4.2)\n",
            "Requirement already satisfied: threadpoolctl>=3.1.0 in /usr/local/lib/python3.10/dist-packages (from scikit-learn) (3.5.0)\n",
            "Requirement already satisfied: contourpy>=1.0.1 in /usr/local/lib/python3.10/dist-packages (from matplotlib) (1.3.0)\n",
            "Requirement already satisfied: cycler>=0.10 in /usr/local/lib/python3.10/dist-packages (from matplotlib) (0.12.1)\n",
            "Requirement already satisfied: fonttools>=4.22.0 in /usr/local/lib/python3.10/dist-packages (from matplotlib) (4.53.1)\n",
            "Requirement already satisfied: kiwisolver>=1.0.1 in /usr/local/lib/python3.10/dist-packages (from matplotlib) (1.4.7)\n",
            "Requirement already satisfied: packaging>=20.0 in /usr/local/lib/python3.10/dist-packages (from matplotlib) (24.1)\n",
            "Requirement already satisfied: pillow>=6.2.0 in /usr/local/lib/python3.10/dist-packages (from matplotlib) (10.4.0)\n",
            "Requirement already satisfied: pyparsing>=2.3.1 in /usr/local/lib/python3.10/dist-packages (from matplotlib) (3.1.4)\n",
            "Requirement already satisfied: six>=1.5 in /usr/local/lib/python3.10/dist-packages (from python-dateutil>=2.8.2->pandas) (1.16.0)\n"
          ]
        }
      ],
      "source": [
        "!pip install pandas scikit-learn matplotlib seaborn"
      ]
    },
    {
      "cell_type": "code",
      "source": [
        "import pandas as pd\n",
        "from sklearn.impute import KNNImputer\n",
        "from sklearn.model_selection import train_test_split\n",
        "from sklearn.linear_model import LogisticRegression\n",
        "from sklearn.svm import SVC\n",
        "from sklearn.metrics import classification_report\n"
      ],
      "metadata": {
        "id": "SYkmH-whp1eL"
      },
      "execution_count": 41,
      "outputs": []
    },
    {
      "cell_type": "code",
      "source": [
        "finland_dti = pd.read_csv('/content/finland.native.dwi.tract.bundles.tissue.whole.voxel.harmz.map.dti_FA_mean.csv')\n",
        "melb_dti = pd.read_csv('/content/melb.native.dwi.tract.bundles.tissue.whole.voxel.harmz.map.dti_FA_mean.csv')\n",
        "ucla_dti = pd.read_csv('/content/ucla.native.dwi.tract.bundles.tissue.whole.voxel.harmz.map.dti_FA_mean.csv')\n",
        "finland_labels = pd.read_csv('/content/pte.csv')\n",
        "\n",
        "print(finland_dti.head())\n",
        "print(melb_dti.head())\n",
        "print(ucla_dti.head())\n",
        "print(finland_labels.head())\n"
      ],
      "metadata": {
        "colab": {
          "base_uri": "https://localhost:8080/"
        },
        "id": "-sanQCVvp3_J",
        "outputId": "da9ca3cf-960c-47d5-d951-01c2d9cbe94a"
      },
      "execution_count": 42,
      "outputs": [
        {
          "output_type": "stream",
          "name": "stdout",
          "text": [
            "          subject    id  tp  fimbria_left  vofb_left  slfc_right  ifof_right  \\\n",
            "0  Kuopio_2d_1008  1008  2d     -1.483774  -1.871713   -0.006680    0.525094   \n",
            "1  Kuopio_2d_1010  1010  2d     -1.759198  -2.879283   -0.903091   -0.113726   \n",
            "2  Kuopio_2d_1012  1012  2d     -1.201728  -1.432469   -0.422760    0.024351   \n",
            "3  Kuopio_2d_1017  1017  2d     -0.581287  -0.272424   -0.422857    0.150489   \n",
            "4  Kuopio_2d_1018  1018  2d     -1.196942  -2.552879   -0.499006    0.330303   \n",
            "\n",
            "   slfc_left    cc_ant  cerped_left  ...  slfd_left  opticrad_left  chip_left  \\\n",
            "0  -1.509330  0.141561    -0.674018  ...        NaN            NaN        NaN   \n",
            "1        NaN -0.824232    -1.054373  ...  -1.511104            NaN        NaN   \n",
            "2  -0.674610 -0.348533    -0.745228  ...        NaN      -1.657730  -1.549084   \n",
            "3  -0.753275 -0.679531    -0.145942  ...   0.105596      -0.603258  -0.235710   \n",
            "4  -2.164975 -0.367490    -0.371646  ...  -1.012411      -3.063264  -3.085489   \n",
            "\n",
            "   amyhypdor_left    cc_mid  vofa_left  thalsmed_right   cc_temp  \\\n",
            "0             NaN       NaN        NaN             NaN       NaN   \n",
            "1             NaN       NaN        NaN             NaN       NaN   \n",
            "2             NaN       NaN        NaN             NaN       NaN   \n",
            "3       -0.361837 -0.591418  -0.267166       -0.182744 -0.253659   \n",
            "4             NaN       NaN        NaN        0.556388       NaN   \n",
            "\n",
            "   amyhypdor_right        site  \n",
            "0              NaN  Finland-P1  \n",
            "1              NaN  Finland-P1  \n",
            "2              NaN  Finland-P1  \n",
            "3              NaN  Finland-P1  \n",
            "4              NaN  Finland-P1  \n",
            "\n",
            "[5 rows x 52 columns]\n",
            "                                           subject    id  tp group  \\\n",
            "0  20170704_120344_EpiBios_B4C_Rat2085_M_D02_I_1_1  2085  2d  Sham   \n",
            "1  20170704_153634_EpiBios_B4C_Rat2084_M_D02_I_1_1  2084  2d   TBI   \n",
            "2  20170705_145137_EpiBios_B4C_Rat2086_M_D02_I_1_1  2086  2d   TBI   \n",
            "3        20170718_095652_EpiBios_B4C_Rat2121_M_1_2  2121  2d  Sham   \n",
            "4        20170719_103725_EpiBios_B4C_Rat2125_M_1_1  2125  2d   TBI   \n",
            "\n",
            "   fimbria_left  vofb_left  slfc_right  slfc_left    cc_ant  cerped_left  ...  \\\n",
            "0      0.793260   0.974841    1.158683   1.086419  1.165947     0.665776  ...   \n",
            "1      0.401972   0.163652    1.746942   0.437881  1.353726     1.166848  ...   \n",
            "2           NaN        NaN    1.651050        NaN  1.843133          NaN  ...   \n",
            "3      1.829521   1.847609    1.973340   1.369074  2.247491     1.072824  ...   \n",
            "4      0.611830   0.462748    1.176732   0.714436  1.094013     0.526933  ...   \n",
            "\n",
            "   ant_comm  ifof_right  thalslat_right  thalslat_left  thalsmed_right  \\\n",
            "0  0.246158         NaN             NaN            NaN             NaN   \n",
            "1  0.610805    1.116560        0.836204       1.321330        0.960998   \n",
            "2  1.351168         NaN             NaN            NaN             NaN   \n",
            "3  1.780934    1.601732        0.169893       0.582615             NaN   \n",
            "4  1.826730    1.832916             NaN            NaN             NaN   \n",
            "\n",
            "   thalsmed_left  cc_temp  amyhypdor_left  amyhypdor_right          site  \n",
            "0            NaN      NaN             NaN              NaN  Melbourne-P1  \n",
            "1       1.307606      NaN             NaN              NaN  Melbourne-P1  \n",
            "2            NaN      NaN             NaN              NaN  Melbourne-P1  \n",
            "3            NaN      NaN             NaN              NaN  Melbourne-P1  \n",
            "4            NaN      NaN             NaN              NaN  Melbourne-P1  \n",
            "\n",
            "[5 rows x 53 columns]\n",
            "              subject    id   tp group  fimbria_left  vofb_left  slfc_right  \\\n",
            "0  gds180219_3001.M11  3001  1mo  Sham      0.094228   0.052107   -0.071478   \n",
            "1  gds180219_3003.M11  3003  1mo  Sham     -0.382374  -0.347112   -0.217168   \n",
            "2  gds180219_3004.M11  3004  1mo  Sham     -0.490688  -0.579347   -0.932036   \n",
            "3  gds180219_3006.M11  3006  1mo  Sham     -0.231369   0.020403    0.010112   \n",
            "4  gds180219_3007.M21  3007  1mo  Sham      0.334536   0.348427    0.252921   \n",
            "\n",
            "   ifof_right  slfc_left    cc_ant  ...  slfb_right  fimbria_right  \\\n",
            "0    0.350164  -0.139787  0.037842  ...    0.018637       0.248611   \n",
            "1   -0.282747  -0.362600 -0.531002  ...   -0.607893      -0.415330   \n",
            "2    0.262262  -0.622931 -0.688884  ...   -0.860884      -0.344503   \n",
            "3   -0.043858   0.148211 -0.181184  ...   -0.120930      -0.122746   \n",
            "4   -0.457493   0.285185  0.006837  ...    0.199087       0.120764   \n",
            "\n",
            "   opticrad_right  thalsmed_left  atr_left  ant_comm    hipcom  slfd_left  \\\n",
            "0       -0.192061            NaN -0.009616  0.038082 -0.043398   0.171946   \n",
            "1       -0.394782            NaN -0.494229 -0.091972 -0.448517  -0.274985   \n",
            "2       -0.918986       0.553279 -0.247467  0.393402 -0.887805  -0.354454   \n",
            "3       -0.105162       0.043397 -0.181325 -0.249170 -0.105891   0.072829   \n",
            "4        0.122077      -0.355450  0.072179  0.039780  0.311844   0.466188   \n",
            "\n",
            "   cc_temp     site  \n",
            "0      NaN  UCLA-P1  \n",
            "1      NaN  UCLA-P1  \n",
            "2      NaN  UCLA-P1  \n",
            "3      NaN  UCLA-P1  \n",
            "4      NaN  UCLA-P1  \n",
            "\n",
            "[5 rows x 52 columns]\n",
            "     id status\n",
            "0  1017   Sham\n",
            "1  1035   Sham\n",
            "2  1045   Sham\n",
            "3  1085   Sham\n",
            "4  1091   Sham\n"
          ]
        }
      ]
    },
    {
      "cell_type": "code",
      "source": [
        "# append the Finnish labels to the main Finnish dataset\n",
        "finland_merged = pd.merge(finland_dti, finland_labels, on='id')\n",
        "print(finland_merged.head())"
      ],
      "metadata": {
        "colab": {
          "base_uri": "https://localhost:8080/"
        },
        "id": "dVJkGI3VqiZ3",
        "outputId": "a280c900-10b7-4523-891a-ad4de0c90719"
      },
      "execution_count": 43,
      "outputs": [
        {
          "output_type": "stream",
          "name": "stdout",
          "text": [
            "           subject    id   tp  fimbria_left  vofb_left  slfc_right  \\\n",
            "0   Kuopio_2d_1008  1008   2d     -1.483774  -1.871713   -0.006680   \n",
            "1  Kuopio_30d_1008  1008  30d     -1.047364   0.390436   -0.788371   \n",
            "2  Kuopio_5mo_1008  1008  5mo           NaN   3.138381   -0.099741   \n",
            "3   Kuopio_9d_1008  1008   9d     -0.864658  -1.104843   -0.207132   \n",
            "4   Kuopio_2d_1012  1012   2d     -1.201728  -1.432469   -0.422760   \n",
            "\n",
            "   ifof_right  slfc_left    cc_ant  cerped_left  ...  opticrad_left  \\\n",
            "0    0.525094  -1.509330  0.141561    -0.674018  ...            NaN   \n",
            "1   -0.376300  -1.166285  0.089390    -0.507800  ...      -1.329183   \n",
            "2    0.844863   0.360937  0.098217     0.058027  ...            NaN   \n",
            "3    0.174978  -0.888778  0.420657    -0.068937  ...      -2.130471   \n",
            "4    0.024351  -0.674610 -0.348533    -0.745228  ...      -1.657730   \n",
            "\n",
            "   chip_left  amyhypdor_left  cc_mid  vofa_left  thalsmed_right  cc_temp  \\\n",
            "0        NaN             NaN     NaN        NaN             NaN      NaN   \n",
            "1   0.708240             NaN     NaN        NaN       -1.495072      NaN   \n",
            "2   0.679290             NaN     NaN        NaN       -0.247664      NaN   \n",
            "3  -1.069747             NaN     NaN        NaN        0.209461      NaN   \n",
            "4  -1.549084             NaN     NaN        NaN             NaN      NaN   \n",
            "\n",
            "   amyhypdor_right        site  status  \n",
            "0              NaN  Finland-P1     PTE  \n",
            "1              NaN  Finland-P1     PTE  \n",
            "2              NaN  Finland-P1     PTE  \n",
            "3              NaN  Finland-P1     PTE  \n",
            "4              NaN  Finland-P1     PTE  \n",
            "\n",
            "[5 rows x 53 columns]\n"
          ]
        }
      ]
    },
    {
      "cell_type": "code",
      "source": [
        "# congregate all the datasets into one\n",
        "combined_data = pd.concat([finland_merged, melb_dti, ucla_dti], ignore_index=True)\n",
        "print(combined_data.head())"
      ],
      "metadata": {
        "colab": {
          "base_uri": "https://localhost:8080/"
        },
        "id": "GEFjcVvvqLBv",
        "outputId": "7f20c146-fc0d-4e80-b3cc-3f0d3011c4c6"
      },
      "execution_count": 44,
      "outputs": [
        {
          "output_type": "stream",
          "name": "stdout",
          "text": [
            "           subject    id   tp  fimbria_left  vofb_left  slfc_right  \\\n",
            "0   Kuopio_2d_1008  1008   2d     -1.483774  -1.871713   -0.006680   \n",
            "1  Kuopio_30d_1008  1008  30d     -1.047364   0.390436   -0.788371   \n",
            "2  Kuopio_5mo_1008  1008  5mo           NaN   3.138381   -0.099741   \n",
            "3   Kuopio_9d_1008  1008   9d     -0.864658  -1.104843   -0.207132   \n",
            "4   Kuopio_2d_1012  1012   2d     -1.201728  -1.432469   -0.422760   \n",
            "\n",
            "   ifof_right  slfc_left    cc_ant  cerped_left  ...  chip_left  \\\n",
            "0    0.525094  -1.509330  0.141561    -0.674018  ...        NaN   \n",
            "1   -0.376300  -1.166285  0.089390    -0.507800  ...   0.708240   \n",
            "2    0.844863   0.360937  0.098217     0.058027  ...   0.679290   \n",
            "3    0.174978  -0.888778  0.420657    -0.068937  ...  -1.069747   \n",
            "4    0.024351  -0.674610 -0.348533    -0.745228  ...  -1.549084   \n",
            "\n",
            "   amyhypdor_left  cc_mid  vofa_left  thalsmed_right  cc_temp  \\\n",
            "0             NaN     NaN        NaN             NaN      NaN   \n",
            "1             NaN     NaN        NaN       -1.495072      NaN   \n",
            "2             NaN     NaN        NaN       -0.247664      NaN   \n",
            "3             NaN     NaN        NaN        0.209461      NaN   \n",
            "4             NaN     NaN        NaN             NaN      NaN   \n",
            "\n",
            "   amyhypdor_right        site  status  group  \n",
            "0              NaN  Finland-P1     PTE    NaN  \n",
            "1              NaN  Finland-P1     PTE    NaN  \n",
            "2              NaN  Finland-P1     PTE    NaN  \n",
            "3              NaN  Finland-P1     PTE    NaN  \n",
            "4              NaN  Finland-P1     PTE    NaN  \n",
            "\n",
            "[5 rows x 54 columns]\n"
          ]
        }
      ]
    },
    {
      "cell_type": "code",
      "source": [
        "# standarize data for time point column\n",
        "combined_data['tp'] = combined_data['tp'].replace({'2d': 'baseline', '1mo': '1_month'})\n",
        "print(combined_data['tp'].unique())"
      ],
      "metadata": {
        "colab": {
          "base_uri": "https://localhost:8080/"
        },
        "id": "m7HnslnNvcjB",
        "outputId": "6fed7057-8992-42ab-cab6-35d0bb10038e"
      },
      "execution_count": 45,
      "outputs": [
        {
          "output_type": "stream",
          "name": "stdout",
          "text": [
            "['baseline' '30d' '5mo' '9d' '1_month']\n"
          ]
        }
      ]
    },
    {
      "cell_type": "code",
      "source": [
        "# remove any columns missing more than 10% of data\n",
        "threshold = 0.10 * len(combined_data)\n",
        "combined_data = combined_data.dropna(thresh=threshold, axis=1)\n",
        "print(combined_data.head())"
      ],
      "metadata": {
        "colab": {
          "base_uri": "https://localhost:8080/"
        },
        "id": "vhvCglWCZg6I",
        "outputId": "eddf8925-9b75-4c88-c9c7-f9e5ad287169"
      },
      "execution_count": 46,
      "outputs": [
        {
          "output_type": "stream",
          "name": "stdout",
          "text": [
            "           subject    id        tp  fimbria_left  vofb_left  slfc_right  \\\n",
            "0   Kuopio_2d_1008  1008  baseline     -1.483774  -1.871713   -0.006680   \n",
            "1  Kuopio_30d_1008  1008       30d     -1.047364   0.390436   -0.788371   \n",
            "2  Kuopio_5mo_1008  1008       5mo           NaN   3.138381   -0.099741   \n",
            "3   Kuopio_9d_1008  1008        9d     -0.864658  -1.104843   -0.207132   \n",
            "4   Kuopio_2d_1012  1012  baseline     -1.201728  -1.432469   -0.422760   \n",
            "\n",
            "   ifof_right  slfc_left    cc_ant  cerped_left  ...  opticrad_left  \\\n",
            "0    0.525094  -1.509330  0.141561    -0.674018  ...            NaN   \n",
            "1   -0.376300  -1.166285  0.089390    -0.507800  ...      -1.329183   \n",
            "2    0.844863   0.360937  0.098217     0.058027  ...            NaN   \n",
            "3    0.174978  -0.888778  0.420657    -0.068937  ...      -2.130471   \n",
            "4    0.024351  -0.674610 -0.348533    -0.745228  ...      -1.657730   \n",
            "\n",
            "   chip_left  amyhypdor_left  cc_mid  vofa_left  thalsmed_right  cc_temp  \\\n",
            "0        NaN             NaN     NaN        NaN             NaN      NaN   \n",
            "1   0.708240             NaN     NaN        NaN       -1.495072      NaN   \n",
            "2   0.679290             NaN     NaN        NaN       -0.247664      NaN   \n",
            "3  -1.069747             NaN     NaN        NaN        0.209461      NaN   \n",
            "4  -1.549084             NaN     NaN        NaN             NaN      NaN   \n",
            "\n",
            "         site  status  group  \n",
            "0  Finland-P1     PTE    NaN  \n",
            "1  Finland-P1     PTE    NaN  \n",
            "2  Finland-P1     PTE    NaN  \n",
            "3  Finland-P1     PTE    NaN  \n",
            "4  Finland-P1     PTE    NaN  \n",
            "\n",
            "[5 rows x 53 columns]\n"
          ]
        }
      ]
    },
    {
      "cell_type": "code",
      "source": [
        "# KNN imputation only works with numerical data, so split up data by categorical vs numerical. Apply KNN imputation to numerical, and mode imputation to categorical\n",
        "numerical_cols = combined_data.select_dtypes(include=['float64', 'int64']).columns\n",
        "categorical_cols = combined_data.select_dtypes(include=['object']).columns\n",
        "\n",
        "imputer = KNNImputer(n_neighbors=5)\n",
        "imputed_numerical_data = pd.DataFrame(imputer.fit_transform(combined_data[numerical_cols]),\n",
        "                                      columns=numerical_cols)\n",
        "\n",
        "imputed_categorical_data = combined_data[categorical_cols].fillna(combined_data[categorical_cols].mode().iloc[0])\n",
        "\n",
        "imputed_data = pd.concat([imputed_numerical_data, imputed_categorical_data], axis=1)\n",
        "\n",
        "print(imputed_data.head())\n"
      ],
      "metadata": {
        "colab": {
          "base_uri": "https://localhost:8080/"
        },
        "id": "3DT9dhSeZjYk",
        "outputId": "366d5832-ab14-4762-b59f-6aae3925fac0"
      },
      "execution_count": 47,
      "outputs": [
        {
          "output_type": "stream",
          "name": "stdout",
          "text": [
            "       id  fimbria_left  vofb_left  slfc_right  ifof_right  slfc_left  \\\n",
            "0  1008.0     -1.483774  -1.871713   -0.006680    0.525094  -1.509330   \n",
            "1  1008.0     -1.047364   0.390436   -0.788371   -0.376300  -1.166285   \n",
            "2  1008.0     -0.615552   3.138381   -0.099741    0.844863   0.360937   \n",
            "3  1008.0     -0.864658  -1.104843   -0.207132    0.174978  -0.888778   \n",
            "4  1012.0     -1.201728  -1.432469   -0.422760    0.024351  -0.674610   \n",
            "\n",
            "     cc_ant  cerped_left  slfb_left  thalslat_right  ...  amyhypdor_left  \\\n",
            "0  0.141561    -0.674018  -0.968109       -1.051188  ...       -0.209276   \n",
            "1  0.089390    -0.507800  -0.595976       -0.999030  ...       -0.209276   \n",
            "2  0.098217     0.058027   0.073093       -0.073283  ...       -0.209276   \n",
            "3  0.420657    -0.068937  -0.186715        0.125790  ...       -0.209276   \n",
            "4 -0.348533    -0.745228  -0.641502       -0.838921  ...       -0.209276   \n",
            "\n",
            "     cc_mid  vofa_left  thalsmed_right   cc_temp          subject        tp  \\\n",
            "0 -0.562352  -0.379304       -0.523012 -0.099664   Kuopio_2d_1008  baseline   \n",
            "1 -0.562352  -0.379304       -1.495072 -0.099664  Kuopio_30d_1008       30d   \n",
            "2 -0.562352  -0.379304       -0.247664 -0.099664  Kuopio_5mo_1008       5mo   \n",
            "3 -0.634185  -0.379304        0.209461 -0.099664   Kuopio_9d_1008        9d   \n",
            "4 -0.634185  -0.379304       -0.510028 -0.158637   Kuopio_2d_1012  baseline   \n",
            "\n",
            "         site  status  group  \n",
            "0  Finland-P1     PTE    TBI  \n",
            "1  Finland-P1     PTE    TBI  \n",
            "2  Finland-P1     PTE    TBI  \n",
            "3  Finland-P1     PTE    TBI  \n",
            "4  Finland-P1     PTE    TBI  \n",
            "\n",
            "[5 rows x 53 columns]\n"
          ]
        }
      ]
    },
    {
      "cell_type": "code",
      "source": [
        "tp_mapping = {'baseline': 0, '9d': 9, '30d': 30, '1_month': 30, '5mo': 150}\n",
        "imputed_data['tp'] = imputed_data['tp'].map(tp_mapping)\n",
        "\n",
        "print(imputed_data['tp'].head())\n"
      ],
      "metadata": {
        "colab": {
          "base_uri": "https://localhost:8080/"
        },
        "id": "R8v2ZUA7c5IK",
        "outputId": "a747facb-3ebd-4e2e-b7b0-4ee42104cb93"
      },
      "execution_count": 48,
      "outputs": [
        {
          "output_type": "stream",
          "name": "stdout",
          "text": [
            "0      0\n",
            "1     30\n",
            "2    150\n",
            "3      9\n",
            "4      0\n",
            "Name: tp, dtype: int64\n"
          ]
        }
      ]
    },
    {
      "cell_type": "code",
      "source": [
        "# prepare X and Y training dataframes - remove unneccessary columns from X and assign labels to Y\n",
        "X = imputed_data.drop(['subject', 'group', 'status', 'site', 'id'], axis=1)\n",
        "y = imputed_data['status'].fillna(imputed_data['group'])\n",
        "\n",
        "\n",
        "\n",
        "print(X.head())\n",
        "print(y.head())\n"
      ],
      "metadata": {
        "colab": {
          "base_uri": "https://localhost:8080/"
        },
        "id": "8LjtR4QieCyE",
        "outputId": "21a730b5-56b1-47b3-d0f7-ccd26ac778a9"
      },
      "execution_count": 49,
      "outputs": [
        {
          "output_type": "stream",
          "name": "stdout",
          "text": [
            "   fimbria_left  vofb_left  slfc_right  ifof_right  slfc_left    cc_ant  \\\n",
            "0     -1.483774  -1.871713   -0.006680    0.525094  -1.509330  0.141561   \n",
            "1     -1.047364   0.390436   -0.788371   -0.376300  -1.166285  0.089390   \n",
            "2     -0.615552   3.138381   -0.099741    0.844863   0.360937  0.098217   \n",
            "3     -0.864658  -1.104843   -0.207132    0.174978  -0.888778  0.420657   \n",
            "4     -1.201728  -1.432469   -0.422760    0.024351  -0.674610 -0.348533   \n",
            "\n",
            "   cerped_left  slfb_left  thalslat_right  cing_right  ...  ant_comm  \\\n",
            "0    -0.674018  -0.968109       -1.051188    0.111440  ...  0.432852   \n",
            "1    -0.507800  -0.595976       -0.999030   -0.423590  ... -0.057724   \n",
            "2     0.058027   0.073093       -0.073283   -0.061513  ...  0.633985   \n",
            "3    -0.068937  -0.186715        0.125790   -0.092026  ...  0.405225   \n",
            "4    -0.745228  -0.641502       -0.838921    0.003674  ... -0.227730   \n",
            "\n",
            "   slfd_left  opticrad_left  chip_left  amyhypdor_left    cc_mid  vofa_left  \\\n",
            "0   0.279302      -1.678138  -0.510209       -0.209276 -0.562352  -0.379304   \n",
            "1   0.279302      -1.329183   0.708240       -0.209276 -0.562352  -0.379304   \n",
            "2   0.279302      -1.678138   0.679290       -0.209276 -0.562352  -0.379304   \n",
            "3   0.192432      -2.130471  -1.069747       -0.209276 -0.634185  -0.379304   \n",
            "4   0.169401      -1.657730  -1.549084       -0.209276 -0.634185  -0.379304   \n",
            "\n",
            "   thalsmed_right   cc_temp   tp  \n",
            "0       -0.523012 -0.099664    0  \n",
            "1       -1.495072 -0.099664   30  \n",
            "2       -0.247664 -0.099664  150  \n",
            "3        0.209461 -0.099664    9  \n",
            "4       -0.510028 -0.158637    0  \n",
            "\n",
            "[5 rows x 48 columns]\n",
            "0    PTE\n",
            "1    PTE\n",
            "2    PTE\n",
            "3    PTE\n",
            "4    PTE\n",
            "Name: status, dtype: object\n"
          ]
        }
      ]
    },
    {
      "cell_type": "code",
      "source": [
        "# train a logistic regression classifier and SVM model\n",
        "from sklearn.model_selection import train_test_split\n",
        "from sklearn.linear_model import LogisticRegression\n",
        "from sklearn.svm import SVC\n",
        "from sklearn.metrics import classification_report\n",
        "\n",
        "X_train, X_test, y_train, y_test = train_test_split(X, y, test_size=0.2, random_state=42)\n",
        "\n",
        "log_model = LogisticRegression(max_iter=1000)\n",
        "log_model.fit(X_train, y_train)\n",
        "\n",
        "log_predictions = log_model.predict(X_test)\n",
        "print(\"Logistic Regression results:\")\n",
        "print(classification_report(y_test, log_predictions))\n",
        "\n",
        "svm_model = SVC()\n",
        "svm_model.fit(X_train, y_train)\n",
        "\n",
        "svm_predictions = svm_model.predict(X_test)\n",
        "print(\"SVM results:\")\n",
        "print(classification_report(y_test, svm_predictions))\n"
      ],
      "metadata": {
        "colab": {
          "base_uri": "https://localhost:8080/"
        },
        "id": "ZjHIJ8hEar-l",
        "outputId": "b624c27d-a00a-4b5f-8814-e82d324faa28"
      },
      "execution_count": 50,
      "outputs": [
        {
          "output_type": "stream",
          "name": "stdout",
          "text": [
            "Logistic Regression results:\n",
            "              precision    recall  f1-score   support\n",
            "\n",
            "         PTE       0.80      0.67      0.73         6\n",
            "        Sham       1.00      0.21      0.35        14\n",
            "         TBI       0.86      0.99      0.92        80\n",
            "\n",
            "    accuracy                           0.86       100\n",
            "   macro avg       0.89      0.62      0.67       100\n",
            "weighted avg       0.87      0.86      0.83       100\n",
            "\n",
            "SVM results:\n",
            "              precision    recall  f1-score   support\n",
            "\n",
            "         PTE       0.00      0.00      0.00         6\n",
            "        Sham       0.00      0.00      0.00        14\n",
            "         TBI       0.80      1.00      0.89        80\n",
            "\n",
            "    accuracy                           0.80       100\n",
            "   macro avg       0.27      0.33      0.30       100\n",
            "weighted avg       0.64      0.80      0.71       100\n",
            "\n"
          ]
        },
        {
          "output_type": "stream",
          "name": "stderr",
          "text": [
            "/usr/local/lib/python3.10/dist-packages/sklearn/metrics/_classification.py:1531: UndefinedMetricWarning: Precision is ill-defined and being set to 0.0 in labels with no predicted samples. Use `zero_division` parameter to control this behavior.\n",
            "  _warn_prf(average, modifier, f\"{metric.capitalize()} is\", len(result))\n",
            "/usr/local/lib/python3.10/dist-packages/sklearn/metrics/_classification.py:1531: UndefinedMetricWarning: Precision is ill-defined and being set to 0.0 in labels with no predicted samples. Use `zero_division` parameter to control this behavior.\n",
            "  _warn_prf(average, modifier, f\"{metric.capitalize()} is\", len(result))\n",
            "/usr/local/lib/python3.10/dist-packages/sklearn/metrics/_classification.py:1531: UndefinedMetricWarning: Precision is ill-defined and being set to 0.0 in labels with no predicted samples. Use `zero_division` parameter to control this behavior.\n",
            "  _warn_prf(average, modifier, f\"{metric.capitalize()} is\", len(result))\n"
          ]
        }
      ]
    },
    {
      "cell_type": "code",
      "source": [
        "\n",
        "print(y.value_counts())\n"
      ],
      "metadata": {
        "colab": {
          "base_uri": "https://localhost:8080/"
        },
        "id": "UWlvqHLRpEgL",
        "outputId": "b095672b-5000-4c9d-e9c1-e51cdf304050"
      },
      "execution_count": 52,
      "outputs": [
        {
          "output_type": "stream",
          "name": "stdout",
          "text": [
            "status\n",
            "TBI     418\n",
            "Sham     43\n",
            "PTE      36\n",
            "Name: count, dtype: int64\n"
          ]
        }
      ]
    },
    {
      "cell_type": "code",
      "source": [
        "'''\n",
        "Logistic Regression:\n",
        "\n",
        "- does well on tbi but is potentially overfitting\n",
        "- sham predictions are all correct, but misses many sham entries\n",
        "- pte is similar to sham, except less predictions correct + catches more pte entries\n",
        "\n",
        "SVM:\n",
        "- likely overfit to tbi\n",
        "- poor for both sham and pte\n",
        "- probably not the best model to use, focus on Logistic Regression / more complex models instead\n",
        "\n",
        "Imbalance of TBI cases to Sham/PTE probably leads to overfitting, so we can try rerunning logistic regression / SVM with the 'balanced' keyword to account for the difference\n",
        "\n",
        "\n",
        "'''"
      ],
      "metadata": {
        "colab": {
          "base_uri": "https://localhost:8080/",
          "height": 139
        },
        "id": "PQw_IV5jby9c",
        "outputId": "3d13df2d-ba00-4dbd-fb5b-cc3bea9c59ba"
      },
      "execution_count": 59,
      "outputs": [
        {
          "output_type": "execute_result",
          "data": {
            "text/plain": [
              "\"\\nLogistic Regression: \\n\\n- does well on tbi but is potentially overfitting \\n- sham predictions are all correct, but misses many sham entries\\n- pte is similar to sham, except less predictions correct + catches more pte entries\\n\\nSVM:\\n- likely overfit to tbi\\n- poor for both sham and pte\\n- probably not the best model to use, focus on Logistic Regression / more complex models instead\\n\\nImbalance of TBI cases to Sham/PTE probably leads to overfitting, so we can try rerunning logistic regression / SVM with the 'balanced' keyword to account for the difference\\n\\n\\n\""
            ],
            "application/vnd.google.colaboratory.intrinsic+json": {
              "type": "string"
            }
          },
          "metadata": {},
          "execution_count": 59
        }
      ]
    },
    {
      "cell_type": "code",
      "source": [
        "from imblearn.over_sampling import SMOTE\n",
        "\n",
        "smote = SMOTE()\n",
        "X_resampled, y_resampled = smote.fit_resample(X_train, y_train)"
      ],
      "metadata": {
        "id": "nPrfrRLsqh9q"
      },
      "execution_count": 60,
      "outputs": []
    },
    {
      "cell_type": "code",
      "source": [
        "log_model_balanced = LogisticRegression(max_iter=1000, class_weight='balanced')\n",
        "log_model_balanced.fit(X_resampled, y_resampled)\n",
        "\n",
        "svm_model_balanced = SVC(class_weight='balanced')\n",
        "svm_model_balanced.fit(X_resampled, y_resampled)\n",
        "\n",
        "\n",
        "log_predictions = log_model.predict(X_test)\n",
        "print(\"Logistic Regression results:\")\n",
        "print(classification_report(y_test, log_predictions))\n",
        "\n",
        "svm_predictions = svm_model.predict(X_test)\n",
        "print(\"SVM results:\")\n",
        "print(classification_report(y_test, svm_predictions))"
      ],
      "metadata": {
        "colab": {
          "base_uri": "https://localhost:8080/"
        },
        "id": "dDnPQP_kpCcw",
        "outputId": "aeea0b17-2ab4-4d0f-d517-580b5b7c2d48"
      },
      "execution_count": 61,
      "outputs": [
        {
          "output_type": "stream",
          "name": "stdout",
          "text": [
            "Logistic Regression results:\n",
            "              precision    recall  f1-score   support\n",
            "\n",
            "         PTE       0.80      0.67      0.73         6\n",
            "        Sham       1.00      0.21      0.35        14\n",
            "         TBI       0.86      0.99      0.92        80\n",
            "\n",
            "    accuracy                           0.86       100\n",
            "   macro avg       0.89      0.62      0.67       100\n",
            "weighted avg       0.87      0.86      0.83       100\n",
            "\n",
            "SVM results:\n",
            "              precision    recall  f1-score   support\n",
            "\n",
            "         PTE       0.00      0.00      0.00         6\n",
            "        Sham       0.00      0.00      0.00        14\n",
            "         TBI       0.80      1.00      0.89        80\n",
            "\n",
            "    accuracy                           0.80       100\n",
            "   macro avg       0.27      0.33      0.30       100\n",
            "weighted avg       0.64      0.80      0.71       100\n",
            "\n"
          ]
        },
        {
          "output_type": "stream",
          "name": "stderr",
          "text": [
            "/usr/local/lib/python3.10/dist-packages/sklearn/metrics/_classification.py:1531: UndefinedMetricWarning: Precision is ill-defined and being set to 0.0 in labels with no predicted samples. Use `zero_division` parameter to control this behavior.\n",
            "  _warn_prf(average, modifier, f\"{metric.capitalize()} is\", len(result))\n",
            "/usr/local/lib/python3.10/dist-packages/sklearn/metrics/_classification.py:1531: UndefinedMetricWarning: Precision is ill-defined and being set to 0.0 in labels with no predicted samples. Use `zero_division` parameter to control this behavior.\n",
            "  _warn_prf(average, modifier, f\"{metric.capitalize()} is\", len(result))\n",
            "/usr/local/lib/python3.10/dist-packages/sklearn/metrics/_classification.py:1531: UndefinedMetricWarning: Precision is ill-defined and being set to 0.0 in labels with no predicted samples. Use `zero_division` parameter to control this behavior.\n",
            "  _warn_prf(average, modifier, f\"{metric.capitalize()} is\", len(result))\n"
          ]
        }
      ]
    },
    {
      "cell_type": "code",
      "source": [],
      "metadata": {
        "id": "ktd0N3oQsoIO"
      },
      "execution_count": null,
      "outputs": []
    }
  ]
}